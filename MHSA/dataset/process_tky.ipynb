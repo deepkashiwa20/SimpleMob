{
 "cells": [
  {
   "cell_type": "code",
   "execution_count": 2,
   "id": "84f99134",
   "metadata": {},
   "outputs": [],
   "source": [
    "import pandas as pd\n",
    "import os"
   ]
  },
  {
   "cell_type": "markdown",
   "id": "43a7448b",
   "metadata": {},
   "source": [
    "# tky"
   ]
  },
  {
   "cell_type": "code",
   "execution_count": 3,
   "id": "9a06699a",
   "metadata": {},
   "outputs": [],
   "source": [
    "# tky\n",
    "df_train = pd.read_csv('../../Foursquare-TKY/train_sample.csv')\n",
    "df_val = pd.read_csv('../../Foursquare-TKY/valid_sample.csv')\n",
    "df_test = pd.read_csv('../../Foursquare-TKY/test_sample.csv')"
   ]
  },
  {
   "cell_type": "code",
   "execution_count": null,
   "id": "43ba0129",
   "metadata": {},
   "outputs": [],
   "source": [
    "# train_filter following GETNext\n",
    "\n",
    "from tqdm import tqdm\n",
    "\n",
    "def train_filter(train_df: pd.DataFrame) -> pd.DataFrame:\n",
    "    \"\"\"\n",
    "    filter short trajectory following GETNext setting (default = 2)\n",
    "    \"\"\"\n",
    "    filtered_rows = []\n",
    "\n",
    "    for traj_id in tqdm(train_df['pseudo_session_trajectory_id'].unique()):\n",
    "        traj_df = train_df[train_df['pseudo_session_trajectory_id'] == traj_id]\n",
    "        poi_ids = traj_df['PoiId'].to_list()\n",
    "\n",
    "        input_seq = [(poi_ids[i], 0) for i in range(len(poi_ids) - 1)]\n",
    "        \n",
    "        if len(input_seq) >= 2:\n",
    "            filtered_rows.append(traj_df)\n",
    "\n",
    "    df_filtered = pd.concat(filtered_rows, ignore_index=True)\n",
    "\n",
    "    return df_filtered"
   ]
  },
  {
   "cell_type": "code",
   "execution_count": 8,
   "id": "2481bd29",
   "metadata": {},
   "outputs": [
    {
     "name": "stderr",
     "output_type": "stream",
     "text": [
      "100%|██████████| 51661/51661 [00:32<00:00, 1599.39it/s]\n"
     ]
    }
   ],
   "source": [
    "df_train_filter = train_filter(df_train)"
   ]
  },
  {
   "cell_type": "code",
   "execution_count": null,
   "id": "b12bc049",
   "metadata": {},
   "outputs": [],
   "source": [
    "# valid and test filter following GETNext\n",
    "\n",
    "from tqdm import tqdm\n",
    "\n",
    "def val_test_filter(train_df: pd.DataFrame, test_df: pd.DataFrame) -> pd.DataFrame:\n",
    "    \"\"\"\n",
    "    val and test filter\n",
    "    1. user id only in train set\n",
    "    2. poi id only in train set\n",
    "    3. filter short trajectory\n",
    "    \"\"\"\n",
    "    # user id and poi id from train before short trajectory filter\n",
    "    train_user_ids = set(train_df['UserId'].unique())\n",
    "    train_poi_ids = set(train_df['PoiId'].unique())\n",
    "\n",
    "    # 1. user id filter\n",
    "    df_filtered = test_df[test_df['UserId'].isin(train_user_ids)]\n",
    "\n",
    "    # 2. poi id filter\n",
    "    df_filtered = df_filtered[df_filtered['PoiId'].isin(train_poi_ids)]\n",
    "\n",
    "    # 3. filter short trajectory following GETNext setting (default = 2)\n",
    "    #traj_counts = df_filtered.groupby('trajectory_id')['PoiId'].transform('count')\n",
    "    #df_filtered = df_filtered[traj_counts >= 2]\n",
    "\n",
    "    # 3. filter short trajectory following GETNext setting (default = 2)\n",
    "    filtered_rows = []\n",
    "\n",
    "    for traj_id in tqdm(df_filtered['pseudo_session_trajectory_id'].unique()):\n",
    "        traj_df = df_filtered[df_filtered['pseudo_session_trajectory_id'] == traj_id]\n",
    "        poi_ids = traj_df['PoiId'].to_list()\n",
    "\n",
    "        input_seq = [(poi_ids[i], 0) for i in range(len(poi_ids) - 1)]\n",
    "        \n",
    "        if len(input_seq) >= 2:\n",
    "            filtered_rows.append(traj_df)\n",
    "\n",
    "    df_filtered = pd.concat(filtered_rows, ignore_index=True)\n",
    "\n",
    "    df_filtered = df_filtered.reset_index(drop=True)\n",
    "\n",
    "    return df_filtered"
   ]
  },
  {
   "cell_type": "code",
   "execution_count": null,
   "id": "7a856703",
   "metadata": {},
   "outputs": [
    {
     "name": "stderr",
     "output_type": "stream",
     "text": [
      "  0%|          | 0/7174 [00:00<?, ?it/s]"
     ]
    },
    {
     "name": "stderr",
     "output_type": "stream",
     "text": [
      "100%|██████████| 7174/7174 [00:02<00:00, 2953.16it/s]\n"
     ]
    }
   ],
   "source": [
    "df_val_filter = val_test_filter(df_train, df_val)"
   ]
  },
  {
   "cell_type": "code",
   "execution_count": null,
   "id": "72493fde",
   "metadata": {},
   "outputs": [
    {
     "name": "stderr",
     "output_type": "stream",
     "text": [
      "  0%|          | 0/7079 [00:00<?, ?it/s]"
     ]
    },
    {
     "name": "stderr",
     "output_type": "stream",
     "text": [
      "100%|██████████| 7079/7079 [00:02<00:00, 2911.47it/s]\n"
     ]
    }
   ],
   "source": [
    "df_test_filter = val_test_filter(df_train, df_test)"
   ]
  },
  {
   "cell_type": "code",
   "execution_count": null,
   "id": "49332747",
   "metadata": {},
   "outputs": [],
   "source": [
    "# rename columns\n",
    "\n",
    "def rename_and_select_columns(df: pd.DataFrame) -> pd.DataFrame:\n",
    "    \"\"\"\n",
    "    rename and select columns\n",
    "\n",
    "    Args:\n",
    "        df (pd.DataFrame): input data\n",
    "\n",
    "    Returns:\n",
    "        pd.DataFrame: processed data\n",
    "    \"\"\"\n",
    "    df_rename = df.rename(\n",
    "        columns={\n",
    "            \"UserId\": \"user_id\",\n",
    "            \"PoiId\": \"location_id\",\n",
    "            \"PoiCategoryId\": \"category\",\n",
    "            \"PoiCategoryName\": \"name\",\n",
    "            \"Latitude\": \"latitude\",\n",
    "            \"Longitude\": \"longitude\",\n",
    "            \"UTCTimeOffset\": \"started_at\",\n",
    "            \"pseudo_session_trajectory_id\": \"trajectory_id\"\n",
    "        }\n",
    "    )[\n",
    "        [\"user_id\", \"location_id\", \"category\", \"name\", \"latitude\", \"longitude\", \"started_at\", \"trajectory_id\"]\n",
    "    ]\n",
    "    return df_rename"
   ]
  },
  {
   "cell_type": "code",
   "execution_count": 11,
   "id": "f2e6401a",
   "metadata": {},
   "outputs": [],
   "source": [
    "df_train_processed = rename_and_select_columns(df_train_filter)\n",
    "df_val_processed = rename_and_select_columns(df_val_filter)\n",
    "df_test_processed = rename_and_select_columns(df_test_filter)"
   ]
  },
  {
   "cell_type": "code",
   "execution_count": 4,
   "id": "d83c76ad",
   "metadata": {},
   "outputs": [],
   "source": [
    "os.makedirs(\"tky/\", exist_ok=True)"
   ]
  },
  {
   "cell_type": "code",
   "execution_count": null,
   "id": "98e6105d",
   "metadata": {},
   "outputs": [],
   "source": [
    "df_train_processed.to_csv('tky/train.csv', index=False)\n",
    "df_val_processed.to_csv('tky/valid.csv', index=False)\n",
    "df_test_processed.to_csv('tky/test.csv', index=False)"
   ]
  }
 ],
 "metadata": {
  "kernelspec": {
   "display_name": "py39-torch21",
   "language": "python",
   "name": "python3"
  },
  "language_info": {
   "codemirror_mode": {
    "name": "ipython",
    "version": 3
   },
   "file_extension": ".py",
   "mimetype": "text/x-python",
   "name": "python",
   "nbconvert_exporter": "python",
   "pygments_lexer": "ipython3",
   "version": "3.9.23"
  }
 },
 "nbformat": 4,
 "nbformat_minor": 5
}
