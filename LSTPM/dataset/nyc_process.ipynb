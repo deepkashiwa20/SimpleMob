{
 "cells": [
  {
   "cell_type": "code",
   "execution_count": 1,
   "id": "2d39e97f",
   "metadata": {},
   "outputs": [],
   "source": [
    "import pandas as pd\n",
    "import pickle"
   ]
  },
  {
   "cell_type": "code",
   "execution_count": 2,
   "id": "960a7305",
   "metadata": {},
   "outputs": [],
   "source": [
    "def build_dataset(train_df: pd.DataFrame, test_df: pd.DataFrame):\n",
    "    # 打上 split 标签并合并\n",
    "    train_df = train_df.copy().assign(__split=\"train\")\n",
    "    test_df  = test_df.copy().assign(__split=\"test\")\n",
    "    df = pd.concat([train_df, test_df], ignore_index=True)\n",
    "\n",
    "    # 解析时间并转 48 槽（0..47）\n",
    "    ts = pd.to_datetime(df[\"UTCTimeOffset\"], errors=\"coerce\")\n",
    "    df[\"_slot48\"] = ((ts.dt.hour * 60 + ts.dt.minute) // 30).astype(\"Int64\")\n",
    "\n",
    "    # 排序键：优先 epoch，没有就用解析后的时间\n",
    "    sort_key = \"UTCTimeOffsetEpoch\" if \"UTCTimeOffsetEpoch\" in df.columns else \"_slot48\"\n",
    "    df = df.sort_values([\"UserId\", \"trajectory_id\", sort_key]).reset_index(drop=True)\n",
    "\n",
    "    # 稠密化用户索引\n",
    "    user_ids = sorted(df[\"UserId\"].unique().tolist())\n",
    "    uid2idx = {uid: i for i, uid in enumerate(user_ids)}\n",
    "\n",
    "    # PoiId 映射到 [0, P-1]\n",
    "    pid_categories = sorted(df[\"PoiId\"].dropna().unique().tolist())\n",
    "    pid2idx = {pid: i for i, pid in enumerate(pid_categories)}\n",
    "    df[\"PoiId_norm\"] = df[\"PoiId\"].map(pid2idx).astype(\"Int64\")\n",
    "\n",
    "    # === 全量 POI → 经纬度映射 (形式: {稠密pid: [lon, lat]}) ===\n",
    "    vid_lookup = (\n",
    "        df.drop_duplicates(\"PoiId\")\n",
    "          .set_index(\"PoiId\")[[\"Longitude\", \"Latitude\"]]\n",
    "          .astype(float)\n",
    "          .apply(lambda row: [row[\"Longitude\"], row[\"Latitude\"]], axis=1)\n",
    "          .rename(index=pid2idx)   # 把原始 PoiId 替换成稠密索引\n",
    "          .to_dict()\n",
    "    )\n",
    "\n",
    "    data = {}\n",
    "    for uid in user_ids:\n",
    "        uidx = uid2idx[uid]\n",
    "        g_user = df[df[\"UserId\"] == uid]\n",
    "\n",
    "        # 轨迹按最早时间排序得到稳定顺序\n",
    "        if \"UTCTimeOffsetEpoch\" in g_user.columns:\n",
    "            traj_order = (\n",
    "                g_user.groupby(\"trajectory_id\")[\"UTCTimeOffsetEpoch\"]\n",
    "                .min().sort_values().index.tolist()\n",
    "            )\n",
    "        else:\n",
    "            traj_order = (\n",
    "                g_user.groupby(\"trajectory_id\")[\"_slot48\"]\n",
    "                .min().sort_values().index.tolist()\n",
    "            )\n",
    "\n",
    "        # 仅为“保留的轨迹”分配连续 session 编号\n",
    "        trajid2sess = {}\n",
    "        sessions = {}\n",
    "        kept_traj_ids = []\n",
    "        sess_counter = 0\n",
    "\n",
    "        for tid in traj_order:\n",
    "            g_traj = g_user[g_user[\"trajectory_id\"] == tid]\n",
    "            if len(g_traj) == 1:      # 丢弃长度为 1 的轨迹\n",
    "                continue\n",
    "\n",
    "            trajid2sess[tid] = sess_counter\n",
    "            kept_traj_ids.append(tid)\n",
    "            sess_counter += 1\n",
    "\n",
    "            pairs = (\n",
    "                g_traj[[\"PoiId\", \"_slot48\"]]\n",
    "                .astype({\"PoiId\": \"Int64\", \"_slot48\": \"Int64\"})\n",
    "                .values.tolist()\n",
    "            )\n",
    "            sessions[trajid2sess[tid]] = pairs\n",
    "\n",
    "        # 强校验：只检查“保留下来的轨迹”是否混有两个 split\n",
    "        split_by_traj = (\n",
    "            g_user.groupby(\"trajectory_id\")[\"__split\"]\n",
    "            .nunique().reindex(kept_traj_ids).fillna(0).astype(int)\n",
    "        )\n",
    "        bad = [tid for tid, k in split_by_traj.items() if k > 1]\n",
    "        if bad:\n",
    "            raise ValueError(f\"检测到同一用户 {uid} 的以下轨迹同时出现在 train 与 test：{bad}\")\n",
    "\n",
    "        # 轨迹归属（只从 kept_traj_ids 中取，并映射到新的 session idx）\n",
    "        traj_split_all = g_user.groupby(\"trajectory_id\")[\"__split\"].first().to_dict()\n",
    "        train_idx = sorted([trajid2sess[tid] for tid in kept_traj_ids if traj_split_all[tid] == \"train\"])\n",
    "        test_idx  = sorted([trajid2sess[tid] for tid in kept_traj_ids if traj_split_all[tid] == \"test\"])\n",
    "\n",
    "        data[uidx] = {\"train\": train_idx, \"test\": test_idx, \"sessions\": sessions}\n",
    "\n",
    "    return data, vid_lookup"
   ]
  },
  {
   "cell_type": "code",
   "execution_count": 2,
   "id": "f7a5b0da",
   "metadata": {},
   "outputs": [],
   "source": [
    "train_df = pd.read_csv(\"../../Foursquare-NYC/train_sample.csv\")\n",
    "test_df  = pd.read_csv(\"../../Foursquare-NYC/test_sample.csv\")"
   ]
  },
  {
   "cell_type": "code",
   "execution_count": 4,
   "id": "d7075010",
   "metadata": {},
   "outputs": [],
   "source": [
    "data_neural, vid_lookup = build_dataset(train_df, test_df)"
   ]
  },
  {
   "cell_type": "code",
   "execution_count": 5,
   "id": "4bb45273",
   "metadata": {},
   "outputs": [
    {
     "data": {
      "text/plain": [
       "1047"
      ]
     },
     "execution_count": 5,
     "metadata": {},
     "output_type": "execute_result"
    }
   ],
   "source": [
    "len(data_neural)"
   ]
  },
  {
   "cell_type": "code",
   "execution_count": 9,
   "id": "4c009cb7",
   "metadata": {},
   "outputs": [],
   "source": [
    "data = {}\n",
    "data['data_neural'] = data_neural\n",
    "data['uid_list'] = len(data_neural)\n",
    "data['vid_list'] = 4980\n",
    "data['vid_lookup'] = vid_lookup"
   ]
  },
  {
   "cell_type": "code",
   "execution_count": null,
   "id": "3cbb4c8b",
   "metadata": {},
   "outputs": [],
   "source": [
    "with open(\"dataset/nyc_cut_one_day.pkl\", \"wb\") as file:\n",
    "    pickle.dump(data, file)"
   ]
  }
 ],
 "metadata": {
  "kernelspec": {
   "display_name": "py39-torch21",
   "language": "python",
   "name": "python3"
  },
  "language_info": {
   "codemirror_mode": {
    "name": "ipython",
    "version": 3
   },
   "file_extension": ".py",
   "mimetype": "text/x-python",
   "name": "python",
   "nbconvert_exporter": "python",
   "pygments_lexer": "ipython3",
   "version": "3.9.23"
  }
 },
 "nbformat": 4,
 "nbformat_minor": 5
}
