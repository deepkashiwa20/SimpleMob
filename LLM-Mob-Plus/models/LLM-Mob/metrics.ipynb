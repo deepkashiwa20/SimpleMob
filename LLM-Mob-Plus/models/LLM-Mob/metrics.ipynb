{
 "cells": [
  {
   "cell_type": "code",
   "execution_count": 1,
   "metadata": {},
   "outputs": [],
   "source": [
    "import os\n",
    "import pandas as pd\n",
    "from sklearn.metrics import f1_score\n",
    "import ast\n",
    "import numpy as np\n"
   ]
  },
  {
   "cell_type": "markdown",
   "metadata": {},
   "source": [
    "## Utils"
   ]
  },
  {
   "cell_type": "code",
   "execution_count": 2,
   "metadata": {},
   "outputs": [],
   "source": [
    "def get_acc1_f1(df):\n",
    "    acc1 = (df['prediction'] == df['ground_truth']).sum() / len(df)\n",
    "    f1 = f1_score(df['ground_truth'], df['prediction'], average='weighted')\n",
    "    return acc1, f1\n",
    "\n",
    "def get_is_correct(row):\n",
    "    pred_list = row['prediction']\n",
    "    if row['ground_truth'] in pred_list:\n",
    "        row['is_correct'] = True\n",
    "    else:\n",
    "        row['is_correct'] = False\n",
    "    \n",
    "    return row\n",
    "\n",
    "\n",
    "def get_is_correct10(row):\n",
    "    pred_list = row['top10']\n",
    "    if row['ground_truth'] in pred_list:\n",
    "        row['is_correct10'] = True\n",
    "    else:\n",
    "        row['is_correct10'] = False\n",
    "        \n",
    "    pred_list = row['top5']\n",
    "    if row['ground_truth'] in pred_list:\n",
    "        row['is_correct5'] = True\n",
    "    else:\n",
    "        row['is_correct5'] = False\n",
    "\n",
    "    pred = row['top1']\n",
    "    if pred == row['ground_truth']:\n",
    "        row['is_correct1'] = True\n",
    "    else:\n",
    "        row['is_correct1'] = False\n",
    "    \n",
    "    return row\n",
    "\n",
    "\n",
    "def first_nonzero(arr, axis, invalid_val=-1):\n",
    "    mask = arr!=0\n",
    "    return np.where(mask.any(axis=axis), mask.argmax(axis=axis), invalid_val)\n",
    "\n",
    "\n",
    "def get_ndcg(prediction, targets, k=10):\n",
    "    \"\"\"\n",
    "    Calculates the NDCG score for the given predictions and targets.\n",
    "\n",
    "    Args:\n",
    "        prediction (Nxk): list of lists. the softmax output of the model.\n",
    "        targets (N): torch.LongTensor. actual target place id.\n",
    "\n",
    "    Returns:\n",
    "        the sum ndcg score\n",
    "    \"\"\"\n",
    "    for _, xi in enumerate(prediction):\n",
    "        if len(xi) < k:\n",
    "            #print(f\"the {i}th length: {len(xi)}\")\n",
    "            xi += [-5 for _ in range(k-len(xi))]\n",
    "        elif len(xi) > k:\n",
    "            xi = xi[:k]\n",
    "        else:\n",
    "            pass\n",
    "    \n",
    "    n_sample = len(prediction)\n",
    "    prediction = np.array(prediction)\n",
    "    targets = np.broadcast_to(targets.reshape(-1, 1), prediction.shape)\n",
    "    hits = first_nonzero(prediction == targets, axis=1, invalid_val=-1)\n",
    "    hits = hits[hits>=0]\n",
    "    ranks = hits + 1\n",
    "    ndcg = 1 / np.log2(ranks + 1)\n",
    "    return np.sum(ndcg) / n_sample\n",
    "    "
   ]
  },
  {
   "cell_type": "markdown",
   "metadata": {},
   "source": [
    "## Top10"
   ]
  },
  {
   "cell_type": "code",
   "execution_count": 7,
   "metadata": {},
   "outputs": [
    {
     "name": "stdout",
     "output_type": "stream",
     "text": [
      "['01.csv', '02.csv', '03.csv', '04.csv', '05.csv', '06.csv', '07.csv', '08.csv', '09.csv', '10.csv', '100.csv', '101.csv', '102.csv', '103.csv', '104.csv', '105.csv', '106.csv', '107.csv', '108.csv', '109.csv', '11.csv', '110.csv', '111.csv', '112.csv', '113.csv', '114.csv', '115.csv', '116.csv', '117.csv', '118.csv', '119.csv', '12.csv', '120.csv', '121.csv', '122.csv', '123.csv', '124.csv', '125.csv', '126.csv', '127.csv', '128.csv', '129.csv', '13.csv', '130.csv', '131.csv', '132.csv', '133.csv', '134.csv', '135.csv', '136.csv', '137.csv', '138.csv', '139.csv', '14.csv', '140.csv', '141.csv', '142.csv', '143.csv', '144.csv', '145.csv', '146.csv', '147.csv', '148.csv', '149.csv', '15.csv', '150.csv', '151.csv', '152.csv', '153.csv', '154.csv', '155.csv', '156.csv', '157.csv', '158.csv', '159.csv', '16.csv', '160.csv', '161.csv', '162.csv', '163.csv', '164.csv', '165.csv', '166.csv', '167.csv', '168.csv', '169.csv', '17.csv', '170.csv', '171.csv', '172.csv', '173.csv', '174.csv', '175.csv', '176.csv', '177.csv', '178.csv', '179.csv', '18.csv', '180.csv', '181.csv', '182.csv', '183.csv', '184.csv', '185.csv', '186.csv', '187.csv', '188.csv', '189.csv', '19.csv', '190.csv', '191.csv', '192.csv', '193.csv', '194.csv', '195.csv', '196.csv', '197.csv', '198.csv', '199.csv', '20.csv', '200.csv', '201.csv', '202.csv', '203.csv', '204.csv', '205.csv', '206.csv', '207.csv', '208.csv', '209.csv', '21.csv', '210.csv', '211.csv', '212.csv', '213.csv', '214.csv', '215.csv', '216.csv', '217.csv', '218.csv', '219.csv', '22.csv', '220.csv', '221.csv', '222.csv', '223.csv', '224.csv', '225.csv', '226.csv', '227.csv', '228.csv', '229.csv', '23.csv', '230.csv', '231.csv', '232.csv', '233.csv', '234.csv', '235.csv', '236.csv', '237.csv', '238.csv', '239.csv', '24.csv', '240.csv', '241.csv', '242.csv', '243.csv', '244.csv', '245.csv', '246.csv', '247.csv', '248.csv', '249.csv', '25.csv', '250.csv', '251.csv', '252.csv', '253.csv', '254.csv', '255.csv', '256.csv', '257.csv', '258.csv', '259.csv', '26.csv', '260.csv', '261.csv', '262.csv', '263.csv', '264.csv', '265.csv', '266.csv', '267.csv', '268.csv', '269.csv', '27.csv', '270.csv', '271.csv', '272.csv', '273.csv', '274.csv', '275.csv', '276.csv', '277.csv', '278.csv', '279.csv', '28.csv', '280.csv', '281.csv', '282.csv', '283.csv', '284.csv', '285.csv', '286.csv', '287.csv', '288.csv', '289.csv', '29.csv', '290.csv', '291.csv', '292.csv', '293.csv', '294.csv', '295.csv', '296.csv', '297.csv', '298.csv', '299.csv', '30.csv', '300.csv', '301.csv', '302.csv', '303.csv', '304.csv', '305.csv', '306.csv', '307.csv', '308.csv', '309.csv', '31.csv', '310.csv', '311.csv', '312.csv', '313.csv', '314.csv', '315.csv', '316.csv', '317.csv', '318.csv', '319.csv', '32.csv', '320.csv', '321.csv', '322.csv', '323.csv', '324.csv', '325.csv', '326.csv', '327.csv', '328.csv', '329.csv', '33.csv', '330.csv', '331.csv', '332.csv', '333.csv', '334.csv', '335.csv', '336.csv', '337.csv', '338.csv', '339.csv', '34.csv', '340.csv', '341.csv', '342.csv', '343.csv', '344.csv', '345.csv', '346.csv', '347.csv', '348.csv', '349.csv', '35.csv', '350.csv', '351.csv', '352.csv', '353.csv', '354.csv', '355.csv', '356.csv', '357.csv', '358.csv', '359.csv', '36.csv', '360.csv', '361.csv', '362.csv', '363.csv', '364.csv', '365.csv', '366.csv', '367.csv', '368.csv', '369.csv', '37.csv', '370.csv', '371.csv', '372.csv', '373.csv', '374.csv', '375.csv', '376.csv', '377.csv', '378.csv', '379.csv', '38.csv', '380.csv', '381.csv', '382.csv', '383.csv', '384.csv', '385.csv', '386.csv', '387.csv', '388.csv', '389.csv', '39.csv', '390.csv', '391.csv', '392.csv', '393.csv', '394.csv', '395.csv', '396.csv', '397.csv', '398.csv', '399.csv', '40.csv', '400.csv', '401.csv', '402.csv', '403.csv', '404.csv', '405.csv', '406.csv', '407.csv', '408.csv', '409.csv', '41.csv', '410.csv', '411.csv', '412.csv', '413.csv', '414.csv', '415.csv', '416.csv', '417.csv', '418.csv', '419.csv', '42.csv', '420.csv', '421.csv', '422.csv', '423.csv', '424.csv', '425.csv', '426.csv', '427.csv', '428.csv', '429.csv', '43.csv', '430.csv', '431.csv', '432.csv', '433.csv', '434.csv', '435.csv', '436.csv', '437.csv', '438.csv', '439.csv', '44.csv', '440.csv', '441.csv', '442.csv', '443.csv', '444.csv', '445.csv', '446.csv', '447.csv', '448.csv', '449.csv', '45.csv', '450.csv', '451.csv', '452.csv', '453.csv', '454.csv', '455.csv', '456.csv', '457.csv', '458.csv', '459.csv', '46.csv', '460.csv', '461.csv', '462.csv', '463.csv', '464.csv', '465.csv', '466.csv', '467.csv', '468.csv', '469.csv', '47.csv', '470.csv', '471.csv', '472.csv', '473.csv', '474.csv', '475.csv', '476.csv', '477.csv', '478.csv', '479.csv', '48.csv', '480.csv', '481.csv', '482.csv', '483.csv', '484.csv', '485.csv', '486.csv', '487.csv', '488.csv', '489.csv', '49.csv', '490.csv', '491.csv', '492.csv', '493.csv', '494.csv', '495.csv', '496.csv', '497.csv', '498.csv', '499.csv', '50.csv', '500.csv', '501.csv', '502.csv', '503.csv', '504.csv', '505.csv', '506.csv', '507.csv', '508.csv', '509.csv', '51.csv', '510.csv', '511.csv', '512.csv', '513.csv', '514.csv', '515.csv', '516.csv', '517.csv', '518.csv', '519.csv', '52.csv', '520.csv', '521.csv', '522.csv', '523.csv', '524.csv', '525.csv', '526.csv', '527.csv', '528.csv', '529.csv', '53.csv', '530.csv', '531.csv', '532.csv', '533.csv', '534.csv', '535.csv', '54.csv', '55.csv', '56.csv', '57.csv', '58.csv', '59.csv', '60.csv', '61.csv', '62.csv', '63.csv', '64.csv', '65.csv', '66.csv', '67.csv', '68.csv', '69.csv', '70.csv', '71.csv', '72.csv', '73.csv', '74.csv', '75.csv', '76.csv', '77.csv', '78.csv', '79.csv', '80.csv', '81.csv', '82.csv', '83.csv', '84.csv', '85.csv', '86.csv', '87.csv', '88.csv', '89.csv', '90.csv', '91.csv', '92.csv', '93.csv', '94.csv', '95.csv', '96.csv', '97.csv', '98.csv', '99.csv']\n",
      "[DEBUG] CSV文件总数: 535\n",
      "number of samples:  12141\n",
      "Acc@1:  0.058232435548966316\n",
      "Acc@5:  0.20896137056255662\n",
      "Acc@10:  0.2840787414545754\n",
      "Weighted F1:  0.036205233594856584\n",
      "NDCG@10:  0.15977899895719733\n"
     ]
    }
   ],
   "source": [
    "# Calculate the metric for all user\n",
    "output_dir = 'output/fsq/top10'\n",
    "file_list = [file for file in os.listdir(output_dir) if file.endswith('.csv')]\n",
    "print(file_list)\n",
    "print(f\"[DEBUG] CSV文件总数: {len(file_list)}\")\n",
    "file_path_list = [os.path.join(output_dir, file) for file in file_list]\n",
    "# file_path_list = file_path_list[:1]\n",
    "# print(file_path_list)\n",
    "\n",
    "df = pd.DataFrame({\n",
    "    'user_id': None,\n",
    "    'ground_truth': None,\n",
    "    'prediction': None,\n",
    "    'reason': None\n",
    "}, index=[])\n",
    "\n",
    "for file_path in file_path_list:\n",
    "    iter_df = pd.read_csv(file_path)\n",
    "    if output_dir[-1] != '1':\n",
    "        pred_series = iter_df['prediction'].apply(lambda x: ast.literal_eval(x))  # A pandas series\n",
    "        iter_df['top10'] = pred_series.apply(lambda x: x[:10] if type(x) == list else [x] * 10)\n",
    "        iter_df['top5'] = pred_series.apply(lambda x: x[:5] if type(x) == list else [x] * 5)\n",
    "        iter_df['top1'] = pred_series.apply(lambda x: x[0] if type(x) == list else x)\n",
    "        # iter_df['prediction'] = iter_df['prediction'].apply(lambda x: x.strip('][').split(', '))\n",
    "    df = pd.concat([df, iter_df], ignore_index=True)\n",
    "    \n",
    "\n",
    "df = df.apply(func=get_is_correct10, axis=1)\n",
    "\n",
    "print(\"number of samples: \", len(df))\n",
    "\n",
    "acc1 = (df['is_correct1']).sum() / len(df)\n",
    "acc5 = (df['is_correct5']).sum() / len(df)\n",
    "acc10 = (df['is_correct10']).sum() / len(df)\n",
    "f1 = f1_score(df['ground_truth'], df['top1'], average='weighted')\n",
    "preds = df['top10'].tolist()\n",
    "targets = np.array(df['ground_truth'].tolist())\n",
    "ndcg = get_ndcg(prediction=preds, targets=targets, k=10)\n",
    "\n",
    "print(\"Acc@1: \", acc1)\n",
    "print(\"Acc@5: \", acc5)\n",
    "print(\"Acc@10: \", acc10)\n",
    "print(\"Weighted F1: \", f1)\n",
    "print(\"NDCG@10: \", ndcg)"
   ]
  },
  {
   "cell_type": "markdown",
   "metadata": {},
   "source": [
    "# Top1"
   ]
  },
  {
   "cell_type": "code",
   "execution_count": 13,
   "metadata": {},
   "outputs": [
    {
     "name": "stdout",
     "output_type": "stream",
     "text": [
      "['01.csv', '02.csv', '03.csv', '04.csv', '05.csv', '06.csv', '07.csv', '08.csv', '09.csv', '10.csv', '100.csv', '101.csv', '102.csv', '103.csv', '104.csv', '105.csv', '106.csv', '107.csv', '108.csv', '109.csv', '11.csv', '110.csv', '111.csv', '112.csv', '113.csv', '114.csv', '115.csv', '116.csv', '117.csv', '118.csv', '119.csv', '12.csv', '120.csv', '121.csv', '122.csv', '123.csv', '124.csv', '125.csv', '126.csv', '127.csv', '128.csv', '129.csv', '13.csv', '130.csv', '131.csv', '132.csv', '133.csv', '134.csv', '135.csv', '136.csv', '137.csv', '138.csv', '139.csv', '14.csv', '140.csv', '141.csv', '142.csv', '143.csv', '144.csv', '145.csv', '146.csv', '147.csv', '148.csv', '149.csv', '15.csv', '150.csv', '151.csv', '152.csv', '153.csv', '154.csv', '155.csv', '156.csv', '157.csv', '158.csv', '159.csv', '16.csv', '160.csv', '161.csv', '162.csv', '163.csv', '164.csv', '165.csv', '166.csv', '167.csv', '168.csv', '169.csv', '17.csv', '170.csv', '171.csv', '172.csv', '173.csv', '174.csv', '175.csv', '176.csv', '177.csv', '178.csv', '179.csv', '18.csv', '180.csv', '181.csv', '182.csv', '183.csv', '184.csv', '185.csv', '186.csv', '187.csv', '188.csv', '189.csv', '19.csv', '190.csv', '191.csv', '192.csv', '193.csv', '194.csv', '195.csv', '196.csv', '197.csv', '198.csv', '199.csv', '20.csv', '200.csv', '201.csv', '202.csv', '203.csv', '204.csv', '205.csv', '206.csv', '207.csv', '208.csv', '209.csv', '21.csv', '210.csv', '211.csv', '212.csv', '213.csv', '214.csv', '215.csv', '216.csv', '217.csv', '218.csv', '219.csv', '22.csv', '220.csv', '221.csv', '222.csv', '223.csv', '224.csv', '225.csv', '226.csv', '227.csv', '228.csv', '229.csv', '23.csv', '230.csv', '231.csv', '232.csv', '233.csv', '234.csv', '235.csv', '236.csv', '237.csv', '238.csv', '239.csv', '24.csv', '240.csv', '241.csv', '242.csv', '243.csv', '244.csv', '245.csv', '246.csv', '247.csv', '248.csv', '249.csv', '25.csv', '250.csv', '251.csv', '252.csv', '253.csv', '254.csv', '255.csv', '256.csv', '257.csv', '258.csv', '259.csv', '26.csv', '260.csv', '261.csv', '262.csv', '263.csv', '264.csv', '265.csv', '266.csv', '267.csv', '268.csv', '269.csv', '27.csv', '270.csv', '271.csv', '272.csv', '273.csv', '274.csv', '275.csv', '276.csv', '277.csv', '278.csv', '279.csv', '28.csv', '280.csv', '281.csv', '282.csv', '283.csv', '284.csv', '285.csv', '286.csv', '287.csv', '288.csv', '289.csv', '29.csv', '290.csv', '291.csv', '292.csv', '293.csv', '294.csv', '295.csv', '296.csv', '297.csv', '298.csv', '299.csv', '30.csv', '300.csv', '301.csv', '302.csv', '303.csv', '304.csv', '305.csv', '306.csv', '307.csv', '308.csv', '309.csv', '31.csv', '310.csv', '311.csv', '312.csv', '313.csv', '314.csv', '315.csv', '316.csv', '317.csv', '318.csv', '319.csv', '32.csv', '320.csv', '321.csv', '322.csv', '323.csv', '324.csv', '325.csv', '326.csv', '327.csv', '328.csv', '329.csv', '33.csv', '330.csv', '331.csv', '332.csv', '333.csv', '334.csv', '335.csv', '336.csv', '337.csv', '338.csv', '339.csv', '34.csv', '340.csv', '341.csv', '342.csv', '343.csv', '344.csv', '345.csv', '346.csv', '347.csv', '348.csv', '349.csv', '35.csv', '350.csv', '351.csv', '352.csv', '353.csv', '354.csv', '355.csv', '356.csv', '357.csv', '358.csv', '359.csv', '36.csv', '360.csv', '361.csv', '362.csv', '363.csv', '364.csv', '365.csv', '366.csv', '367.csv', '368.csv', '369.csv', '37.csv', '370.csv', '371.csv', '372.csv', '373.csv', '374.csv', '375.csv', '376.csv', '377.csv', '378.csv', '379.csv', '38.csv', '380.csv', '381.csv', '382.csv', '383.csv', '384.csv', '385.csv', '386.csv', '387.csv', '388.csv', '389.csv', '39.csv', '390.csv', '391.csv', '392.csv', '393.csv', '394.csv', '395.csv', '396.csv', '397.csv', '398.csv', '399.csv', '40.csv', '400.csv', '401.csv', '402.csv', '403.csv', '404.csv', '405.csv', '406.csv', '407.csv', '408.csv', '409.csv', '41.csv', '410.csv', '411.csv', '412.csv', '413.csv', '414.csv', '415.csv', '416.csv', '417.csv', '418.csv', '419.csv', '42.csv', '420.csv', '421.csv', '422.csv', '423.csv', '424.csv', '425.csv', '426.csv', '427.csv', '428.csv', '429.csv', '43.csv', '430.csv', '431.csv', '432.csv', '433.csv', '434.csv', '435.csv', '436.csv', '437.csv', '438.csv', '439.csv', '44.csv', '440.csv', '441.csv', '442.csv', '443.csv', '444.csv', '445.csv', '446.csv', '447.csv', '448.csv', '449.csv', '45.csv', '450.csv', '451.csv', '452.csv', '453.csv', '454.csv', '455.csv', '456.csv', '457.csv', '458.csv', '459.csv', '46.csv', '460.csv', '461.csv', '462.csv', '463.csv', '464.csv', '465.csv', '466.csv', '467.csv', '468.csv', '469.csv', '47.csv', '470.csv', '471.csv', '472.csv', '473.csv', '474.csv', '475.csv', '476.csv', '477.csv', '478.csv', '479.csv', '48.csv', '480.csv', '481.csv', '482.csv', '483.csv', '484.csv', '485.csv', '486.csv', '487.csv', '488.csv', '489.csv', '49.csv', '490.csv', '491.csv', '492.csv', '493.csv', '494.csv', '495.csv', '496.csv', '497.csv', '498.csv', '499.csv', '50.csv', '500.csv', '501.csv', '502.csv', '503.csv', '504.csv', '505.csv', '506.csv', '507.csv', '508.csv', '509.csv', '51.csv', '510.csv', '511.csv', '512.csv', '513.csv', '514.csv', '515.csv', '516.csv', '517.csv', '518.csv', '519.csv', '52.csv', '520.csv', '521.csv', '522.csv', '523.csv', '524.csv', '525.csv', '526.csv', '527.csv', '528.csv', '529.csv', '53.csv', '530.csv', '531.csv', '532.csv', '533.csv', '534.csv', '535.csv', '54.csv', '55.csv', '56.csv', '57.csv', '58.csv', '59.csv', '60.csv', '61.csv', '62.csv', '63.csv', '64.csv', '65.csv', '66.csv', '67.csv', '68.csv', '69.csv', '70.csv', '71.csv', '72.csv', '73.csv', '74.csv', '75.csv', '76.csv', '77.csv', '78.csv', '79.csv', '80.csv', '81.csv', '82.csv', '83.csv', '84.csv', '85.csv', '86.csv', '87.csv', '88.csv', '89.csv', '90.csv', '91.csv', '92.csv', '93.csv', '94.csv', '95.csv', '96.csv', '97.csv', '98.csv', '99.csv']\n",
      "Acc@1:  0.22666996128819702\n",
      "F1:  0.1664503996421955\n"
     ]
    }
   ],
   "source": [
    "# Calculate the metric for all user\n",
    "output_dir = 'output/fsq/top1_wot'\n",
    "file_list = [file for file in os.listdir(output_dir) if file.endswith('.csv')]\n",
    "print(file_list)\n",
    "file_path_list = [os.path.join(output_dir, file) for file in file_list]\n",
    "\n",
    "df = pd.DataFrame({\n",
    "    'user_id': None,\n",
    "    'ground_truth': None,\n",
    "    'prediction': None,\n",
    "    'reason': None\n",
    "}, index=[])\n",
    "\n",
    "for file_path in file_path_list:\n",
    "    iter_df = pd.read_csv(file_path)\n",
    "    df = pd.concat([df, iter_df], ignore_index=True)\n",
    "\n",
    "df['prediction'] = df['prediction'].apply(lambda x: int(x))\n",
    "df['ground_truth'] = df['ground_truth'].apply(lambda x: int(x))\n",
    "\n",
    "acc1, f1 = get_acc1_f1(df)\n",
    "print(\"Acc@1: \", acc1)\n",
    "print(\"F1: \", f1)"
   ]
  },
  {
   "cell_type": "code",
   "execution_count": null,
   "metadata": {},
   "outputs": [],
   "source": []
  }
 ],
 "metadata": {
  "kernelspec": {
   "display_name": "Python 3",
   "language": "python",
   "name": "python3"
  },
  "language_info": {
   "codemirror_mode": {
    "name": "ipython",
    "version": 3
   },
   "file_extension": ".py",
   "mimetype": "text/x-python",
   "name": "python",
   "nbconvert_exporter": "python",
   "pygments_lexer": "ipython3",
   "version": "3.10.5"
  },
  "orig_nbformat": 4
 },
 "nbformat": 4,
 "nbformat_minor": 2
}
